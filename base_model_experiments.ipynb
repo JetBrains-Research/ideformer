{
 "cells": [
  {
   "cell_type": "code",
   "execution_count": 1,
   "id": "2d1da4a1",
   "metadata": {},
   "outputs": [],
   "source": [
    "import os\n",
    "\n",
    "os.environ[\"CUDA_DEVICE_ORDER\"]=\"PCI_BUS_ID\"\n",
    "os.environ[\"CUDA_VISIBLE_DEVICES\"]=\"0,1,2,3,4,6\"\n",
    "\n",
    "os.environ['CUDA_PATH']='/usr/local/cuda-11'"
   ]
  },
  {
   "cell_type": "raw",
   "id": "d8d014c9",
   "metadata": {},
   "source": [
    "!pip install -U torch transformers datasets accelerate einops"
   ]
  },
  {
   "cell_type": "code",
   "execution_count": 2,
   "id": "32fce034",
   "metadata": {},
   "outputs": [],
   "source": [
    "import pandas as pd\n",
    "import numpy as np\n",
    "from datasets import load_dataset, Dataset\n",
    "import re"
   ]
  },
  {
   "cell_type": "raw",
   "id": "adb26c3c",
   "metadata": {},
   "source": [
    "gorilla_dataset = load_dataset(\"gorilla-llm/APIBench\") # doesn't work at this time, cause the dataset is corrupted"
   ]
  },
  {
   "cell_type": "raw",
   "id": "adec932b",
   "metadata": {},
   "source": [
    "# clone the datasets and the sharded falcon-7b model version\n",
    "\n",
    "!git clone https://huggingface.co/ybelkada/falcon-7b-sharded-bf16\n",
    "!cd falcon-7b-sharded-bf16 ; git lfs pull\n",
    "\n",
    "!git clone https://github.com/ShishirPatil/gorilla"
   ]
  },
  {
   "cell_type": "code",
   "execution_count": 3,
   "id": "7918a6c2",
   "metadata": {},
   "outputs": [],
   "source": [
    "def prep_gorilla(addr):\n",
    "    # manually preparing the dataset\n",
    "    df = pd.read_json(addr, lines=True)\n",
    "    df_instructions_list = df.code.apply(lambda x: re.findall(r'###.?Instruction: (.*?)\\n', x))\n",
    "    df_outputs_list = df.code.apply(lambda x: re.findall(r'###.?Output: (.+)', x, flags=re.DOTALL))\n",
    "    \n",
    "    both_ok = (df_outputs_list.apply(len) == 1) & (df_instructions_list.apply(len) == 1)\n",
    "    \n",
    "    df = df[both_ok]\n",
    "    \n",
    "    df['instruction'] = df_instructions_list[both_ok].apply(lambda x: x[0])\n",
    "    df['output'] = df_outputs_list[both_ok].apply(lambda x: x[0])\n",
    "    \n",
    "    return Dataset.from_pandas(df.astype(str))"
   ]
  },
  {
   "cell_type": "raw",
   "id": "066d8601",
   "metadata": {},
   "source": [
    "from transformers import (\n",
    "    AutoConfig,\n",
    "    AutoModel,\n",
    "    AutoModelForCausalLM,\n",
    "    AutoModelForSeq2SeqLM,\n",
    "    AutoTokenizer,\n",
    "    LlamaTokenizer,\n",
    "    LlamaForCausalLM,\n",
    "    T5Tokenizer,\n",
    ")"
   ]
  },
  {
   "cell_type": "code",
   "execution_count": 4,
   "id": "b4ff17fe",
   "metadata": {},
   "outputs": [],
   "source": [
    "from transformers import AutoTokenizer, AutoModelForCausalLM\n",
    "import transformers\n",
    "import torch"
   ]
  },
  {
   "cell_type": "code",
   "execution_count": 5,
   "id": "cdcb986b",
   "metadata": {},
   "outputs": [],
   "source": [
    "tokenizer = AutoTokenizer.from_pretrained(\"tiiuae/falcon-7b\")\n",
    "tokenizer.add_special_tokens({'pad_token': '<?>'})\n",
    "\n",
    "def tokenize_function(examples):\n",
    "    return tokenizer(examples['instruction'], text_target=examples['output'], truncation=True, \n",
    "                     padding='max_length', max_length=640)"
   ]
  },
  {
   "cell_type": "code",
   "execution_count": 6,
   "id": "a860a8d7",
   "metadata": {},
   "outputs": [
    {
     "data": {
      "application/vnd.jupyter.widget-view+json": {
       "model_id": "",
       "version_major": 2,
       "version_minor": 0
      },
      "text/plain": [
       "Map:   0%|          | 0/8081 [00:00<?, ? examples/s]"
      ]
     },
     "metadata": {},
     "output_type": "display_data"
    },
    {
     "data": {
      "application/vnd.jupyter.widget-view+json": {
       "model_id": "",
       "version_major": 2,
       "version_minor": 0
      },
      "text/plain": [
       "Map:   0%|          | 0/899 [00:00<?, ? examples/s]"
      ]
     },
     "metadata": {},
     "output_type": "display_data"
    }
   ],
   "source": [
    "# prepare the dataset\n",
    "\n",
    "hf_train_dset = prep_gorilla('/mnt/data/mart/gorilla/data/apibench/huggingface_train.json')\n",
    "hf_eval_dset = prep_gorilla('/mnt/data/mart/gorilla/data/apibench/huggingface_eval.json')\n",
    "\n",
    "tok_hf_train_dset = hf_train_dset.map(tokenize_function, batched=True)\n",
    "tok_hf_eval_dset = hf_eval_dset.map(tokenize_function, batched=True)\n",
    "\n",
    "tok_hf_train_dset = tok_hf_train_dset.remove_columns(['code', \n",
    "                                                      'api_call', \n",
    "                                                      'provider',\n",
    "                                                      'api_data',\n",
    "                                                      'instruction',\n",
    "                                                      'output',\n",
    "                                                      '__index_level_0__'])\n",
    "\n",
    "tok_hf_eval_dset = tok_hf_eval_dset.remove_columns(['code', \n",
    "                                                    'api_call', \n",
    "                                                    'provider',\n",
    "                                                    'api_data',\n",
    "                                                    'instruction',\n",
    "                                                    'output',\n",
    "                                                    '__index_level_0__'])"
   ]
  },
  {
   "cell_type": "code",
   "execution_count": 7,
   "id": "16bcce6e",
   "metadata": {},
   "outputs": [],
   "source": [
    "small_tok_hf_train_dset = hf_train_dset.shuffle(seed=42).select(range(500)) # for quick tests"
   ]
  },
  {
   "cell_type": "code",
   "execution_count": 8,
   "id": "1c7a282b",
   "metadata": {},
   "outputs": [],
   "source": [
    "from accelerate import init_empty_weights, infer_auto_device_map, load_checkpoint_and_dispatch\n",
    "from transformers import AutoConfig, AutoModelForCausalLM"
   ]
  },
  {
   "cell_type": "code",
   "execution_count": 9,
   "id": "a059e035",
   "metadata": {
    "collapsed": true
   },
   "outputs": [
    {
     "data": {
      "text/plain": [
       "{'transformer.word_embeddings': 0,\n",
       " 'lm_head': 0,\n",
       " 'transformer.h.0': 0,\n",
       " 'transformer.h.1': 0,\n",
       " 'transformer.h.2': 0,\n",
       " 'transformer.h.3': 0,\n",
       " 'transformer.h.4': 1,\n",
       " 'transformer.h.5': 1,\n",
       " 'transformer.h.6': 1,\n",
       " 'transformer.h.7': 1,\n",
       " 'transformer.h.8': 1,\n",
       " 'transformer.h.9': 1,\n",
       " 'transformer.h.10': 2,\n",
       " 'transformer.h.11': 2,\n",
       " 'transformer.h.12': 2,\n",
       " 'transformer.h.13': 2,\n",
       " 'transformer.h.14': 2,\n",
       " 'transformer.h.15': 2,\n",
       " 'transformer.h.16': 3,\n",
       " 'transformer.h.17': 3,\n",
       " 'transformer.h.18': 3,\n",
       " 'transformer.h.19': 3,\n",
       " 'transformer.h.20': 3,\n",
       " 'transformer.h.21': 3,\n",
       " 'transformer.h.22': 4,\n",
       " 'transformer.h.23': 4,\n",
       " 'transformer.h.24': 4,\n",
       " 'transformer.h.25': 4,\n",
       " 'transformer.h.26': 4,\n",
       " 'transformer.h.27': 4,\n",
       " 'transformer.h.28': 5,\n",
       " 'transformer.h.29': 5,\n",
       " 'transformer.h.30': 5,\n",
       " 'transformer.h.31': 5,\n",
       " 'transformer.ln_f': 5}"
      ]
     },
     "execution_count": 9,
     "metadata": {},
     "output_type": "execute_result"
    }
   ],
   "source": [
    "config = AutoConfig.from_pretrained('tiiuae/falcon-7b', trust_remote_code=True)\n",
    "\n",
    "with init_empty_weights():\n",
    "    model = AutoModelForCausalLM.from_config(config, trust_remote_code=True)\n",
    "    \n",
    "model.tie_weights()\n",
    "\n",
    "device_map = infer_auto_device_map(model, max_memory={0: \"5GiB\",1: \"5GiB\",2: \"5GiB\",3: \"5GiB\",4: \"5GiB\",5: \"5GiB\"}, \n",
    "                                   no_split_module_classes=[\"DecoderLayer\"])\n",
    "\n",
    "model = load_checkpoint_and_dispatch(model, \n",
    "                                     \"/mnt/data/mart/falcon-7b-sharded-bf16\", \n",
    "                                     device_map=device_map)\n",
    "\n",
    "model.hf_device_map"
   ]
  },
  {
   "cell_type": "code",
   "execution_count": 9,
   "id": "08c40684",
   "metadata": {},
   "outputs": [
    {
     "data": {
      "text/plain": [
       "{'transformer.word_embeddings': 0,\n",
       " 'lm_head': 0,\n",
       " 'transformer.h.0': 0,\n",
       " 'transformer.h.1': 0,\n",
       " 'transformer.h.2': 0,\n",
       " 'transformer.h.3': 0,\n",
       " 'transformer.h.4': 1,\n",
       " 'transformer.h.5': 1,\n",
       " 'transformer.h.6': 1,\n",
       " 'transformer.h.7': 1,\n",
       " 'transformer.h.8': 1,\n",
       " 'transformer.h.9': 1,\n",
       " 'transformer.h.10': 2,\n",
       " 'transformer.h.11': 2,\n",
       " 'transformer.h.12': 2,\n",
       " 'transformer.h.13': 2,\n",
       " 'transformer.h.14': 2,\n",
       " 'transformer.h.15': 2,\n",
       " 'transformer.h.16': 3,\n",
       " 'transformer.h.17': 3,\n",
       " 'transformer.h.18': 3,\n",
       " 'transformer.h.19': 3,\n",
       " 'transformer.h.20': 3,\n",
       " 'transformer.h.21': 3,\n",
       " 'transformer.h.22': 4,\n",
       " 'transformer.h.23': 4,\n",
       " 'transformer.h.24': 4,\n",
       " 'transformer.h.25': 4,\n",
       " 'transformer.h.26': 4,\n",
       " 'transformer.h.27': 4,\n",
       " 'transformer.h.28': 5,\n",
       " 'transformer.h.29': 5,\n",
       " 'transformer.h.30': 5,\n",
       " 'transformer.h.31': 5,\n",
       " 'transformer.ln_f': 5}"
      ]
     },
     "execution_count": 9,
     "metadata": {},
     "output_type": "execute_result"
    }
   ],
   "source": [
    "config = AutoConfig.from_pretrained('tiiuae/falcon-7b', trust_remote_code=True)\n",
    "\n",
    "with init_empty_weights():\n",
    "    model = AutoModelForCausalLM.from_config(config, trust_remote_code=True)\n",
    "    \n",
    "model.tie_weights()\n",
    "\n",
    "device_map = infer_auto_device_map(model, max_memory={0: \"5GiB\",1: \"5GiB\",2: \"5GiB\",3: \"5GiB\",4: \"5GiB\",5: \"5GiB\"}, \n",
    "                                   no_split_module_classes=[\"DecoderLayer\"])\n",
    "\n",
    "model = load_checkpoint_and_dispatch(model, \n",
    "                                     \"/mnt/data/mart/test_trainer/checkpoint-126/\", \n",
    "                                     device_map=device_map)\n",
    "\n",
    "model.hf_device_map"
   ]
  },
  {
   "cell_type": "raw",
   "id": "4fb5562f",
   "metadata": {},
   "source": [
    "# this works only for posh guys with 80Gb GPUs\n",
    "model = AutoModelForCausalLM.from_pretrained(\"tiiuae/falcon-7b\", trust_remote_code=True)"
   ]
  },
  {
   "cell_type": "code",
   "execution_count": 10,
   "id": "5a445f86",
   "metadata": {},
   "outputs": [],
   "source": [
    "from transformers import Seq2SeqTrainingArguments, Seq2SeqTrainer"
   ]
  },
  {
   "cell_type": "code",
   "execution_count": 11,
   "id": "9cfc9717",
   "metadata": {},
   "outputs": [],
   "source": [
    "training_args = Seq2SeqTrainingArguments(output_dir=\"/mnt/data/mart/test_trainer\", learning_rate=2e-5, \n",
    "                                         num_train_epochs=5, warmup_ratio=0.03, \n",
    "                                         gradient_accumulation_steps=64, save_strategy='epoch',\n",
    "                                         load_best_model_at_end=True, fp16=True,\n",
    "                                         per_device_train_batch_size=1, evaluation_strategy='epoch')"
   ]
  },
  {
   "cell_type": "code",
   "execution_count": 12,
   "id": "5bc3eb72",
   "metadata": {},
   "outputs": [],
   "source": [
    "trainer = Seq2SeqTrainer(model=model, args=training_args, \n",
    "                         train_dataset=tok_hf_train_dset, \n",
    "                         eval_dataset=tok_hf_eval_dset, )"
   ]
  },
  {
   "cell_type": "code",
   "execution_count": null,
   "id": "af115ee4",
   "metadata": {
    "scrolled": true
   },
   "outputs": [
    {
     "name": "stderr",
     "output_type": "stream",
     "text": [
      "/mnt/data/mart/anaconda4/lib/python3.10/site-packages/transformers/optimization.py:411: FutureWarning: This implementation of AdamW is deprecated and will be removed in a future version. Use the PyTorch implementation torch.optim.AdamW instead, or set `no_deprecation_warning=True` to disable this warning\n",
      "  warnings.warn(\n"
     ]
    },
    {
     "data": {
      "text/html": [
       "\n",
       "    <div>\n",
       "      \n",
       "      <progress value='140' max='630' style='width:300px; height:20px; vertical-align: middle;'></progress>\n",
       "      [140/630 2:00:44 < 7:08:44, 0.02 it/s, Epoch 1.10/5]\n",
       "    </div>\n",
       "    <table border=\"1\" class=\"dataframe\">\n",
       "  <thead>\n",
       " <tr style=\"text-align: left;\">\n",
       "      <th>Epoch</th>\n",
       "      <th>Training Loss</th>\n",
       "      <th>Validation Loss</th>\n",
       "    </tr>\n",
       "  </thead>\n",
       "  <tbody>\n",
       "    <tr>\n",
       "      <td>0</td>\n",
       "      <td>No log</td>\n",
       "      <td>3.129288</td>\n",
       "    </tr>\n",
       "  </tbody>\n",
       "</table><p>"
      ],
      "text/plain": [
       "<IPython.core.display.HTML object>"
      ]
     },
     "metadata": {},
     "output_type": "display_data"
    }
   ],
   "source": [
    "trainer.train()"
   ]
  },
  {
   "cell_type": "code",
   "execution_count": 10,
   "id": "b1fe0403",
   "metadata": {},
   "outputs": [],
   "source": [
    "model = model.eval()"
   ]
  },
  {
   "cell_type": "code",
   "execution_count": 11,
   "id": "e7d9cd33",
   "metadata": {},
   "outputs": [
    {
     "name": "stderr",
     "output_type": "stream",
     "text": [
      "Xformers is not installed correctly. If you want to use memory_efficient_attention to accelerate training use the following command to install Xformers\n",
      "pip install xformers.\n",
      "The model 'RWForCausalLM' is not supported for text-generation. Supported models are ['BartForCausalLM', 'BertLMHeadModel', 'BertGenerationDecoder', 'BigBirdForCausalLM', 'BigBirdPegasusForCausalLM', 'BioGptForCausalLM', 'BlenderbotForCausalLM', 'BlenderbotSmallForCausalLM', 'BloomForCausalLM', 'CamembertForCausalLM', 'CodeGenForCausalLM', 'CpmAntForCausalLM', 'CTRLLMHeadModel', 'Data2VecTextForCausalLM', 'ElectraForCausalLM', 'ErnieForCausalLM', 'GitForCausalLM', 'GPT2LMHeadModel', 'GPT2LMHeadModel', 'GPTBigCodeForCausalLM', 'GPTNeoForCausalLM', 'GPTNeoXForCausalLM', 'GPTNeoXJapaneseForCausalLM', 'GPTJForCausalLM', 'LlamaForCausalLM', 'MarianForCausalLM', 'MBartForCausalLM', 'MegaForCausalLM', 'MegatronBertForCausalLM', 'MvpForCausalLM', 'OpenLlamaForCausalLM', 'OpenAIGPTLMHeadModel', 'OPTForCausalLM', 'PegasusForCausalLM', 'PLBartForCausalLM', 'ProphetNetForCausalLM', 'QDQBertLMHeadModel', 'ReformerModelWithLMHead', 'RemBertForCausalLM', 'RobertaForCausalLM', 'RobertaPreLayerNormForCausalLM', 'RoCBertForCausalLM', 'RoFormerForCausalLM', 'RwkvForCausalLM', 'Speech2Text2ForCausalLM', 'TransfoXLLMHeadModel', 'TrOCRForCausalLM', 'XGLMForCausalLM', 'XLMWithLMHeadModel', 'XLMProphetNetForCausalLM', 'XLMRobertaForCausalLM', 'XLMRobertaXLForCausalLM', 'XLNetLMHeadModel', 'XmodForCausalLM'].\n"
     ]
    }
   ],
   "source": [
    "pipeline = transformers.pipeline(\n",
    "    \"text-generation\",\n",
    "    model=model,\n",
    "    tokenizer=tokenizer,\n",
    "    torch_dtype=torch.bfloat16,\n",
    "    trust_remote_code=True,\n",
    "    device_map=\"auto\",\n",
    ")"
   ]
  },
  {
   "cell_type": "code",
   "execution_count": 12,
   "id": "5c4b7686",
   "metadata": {},
   "outputs": [
    {
     "name": "stderr",
     "output_type": "stream",
     "text": [
      "Setting `pad_token_id` to `eos_token_id`:11 for open-end generation.\n"
     ]
    },
    {
     "name": "stdout",
     "output_type": "stream",
     "text": [
      "Result: The user is interested in a tool to find relationships between medical terms.<___:::('('-('-('----------------\n",
      "\n",
      "\n",
      "\n",
      "\n",
      "\n",
      "\n",
      "\n",
      "\n",
      "\n",
      "\n",
      "\n",
      "\n",
      "\n",
      "\n",
      "\n",
      "\n",
      ":::::ersenceenceersenceersersersersersersersersersersersersersersersersersersersersersersersersersersersersersersersersersersersersersersersersersersersers.---------.-.-----.-.-.......................................................\n",
      ".....\n",
      ".....\n",
      "..\n",
      "\n",
      "\n",
      "\n",
      "\n",
      "\n",
      "\n",
      "\n",
      "\n",
      "\n",
      "\n",
      "\n",
      "\n",
      "\n",
      "\n",
      "\n",
      "\n",
      "\n",
      "\n",
      "\n",
      "\n",
      "\n",
      "\n",
      "\n",
      "\n",
      "\n",
      "\n",
      "\n",
      "\n",
      "\n",
      "\n",
      "\n",
      "\n",
      "\n",
      "\n",
      "\n",
      "\n",
      "\n",
      "\n",
      "\n",
      "\n",
      "\n",
      "\n",
      "\n",
      "\n",
      "\n",
      "\n",
      "\n",
      "\n",
      "\n",
      "\n",
      "\n",
      "\n",
      "\n",
      "\n",
      "\n",
      "\n",
      "\n",
      "\n",
      "\n",
      "\n",
      "  - - - - -  - -  - -    - - - -      \n"
     ]
    }
   ],
   "source": [
    "sequences = pipeline(\n",
    "   \"The user is interested in a tool to find relationships between medical terms.\",\n",
    "    max_length=1024,\n",
    "    do_sample=True,\n",
    "    top_k=1,\n",
    "    num_return_sequences=1,\n",
    "    eos_token_id=tokenizer.eos_token_id,\n",
    ")\n",
    "for seq in sequences:\n",
    "    print(f\"Result: {seq['generated_text']}\")"
   ]
  }
 ],
 "metadata": {
  "kernelspec": {
   "display_name": "Python 3 (ipykernel)",
   "language": "python",
   "name": "python3"
  },
  "language_info": {
   "codemirror_mode": {
    "name": "ipython",
    "version": 3
   },
   "file_extension": ".py",
   "mimetype": "text/x-python",
   "name": "python",
   "nbconvert_exporter": "python",
   "pygments_lexer": "ipython3",
   "version": "3.10.9"
  }
 },
 "nbformat": 4,
 "nbformat_minor": 5
}
