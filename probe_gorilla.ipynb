{
 "cells": [
  {
   "cell_type": "code",
   "execution_count": 1,
   "id": "2d1da4a1",
   "metadata": {},
   "outputs": [],
   "source": [
    "import os\n",
    "\n",
    "os.environ[\"CUDA_DEVICE_ORDER\"]=\"PCI_BUS_ID\"\n",
    "os.environ[\"CUDA_VISIBLE_DEVICES\"]=\"0,1,2,3,4,6\"\n",
    "\n",
    "os.environ['CUDA_PATH']='/usr/local/cuda-11'"
   ]
  },
  {
   "cell_type": "code",
   "execution_count": 2,
   "id": "32fce034",
   "metadata": {},
   "outputs": [],
   "source": [
    "import pandas as pd\n",
    "import numpy as np\n",
    "from datasets import load_dataset, Dataset\n",
    "import re"
   ]
  },
  {
   "cell_type": "code",
   "execution_count": 3,
   "id": "b4ff17fe",
   "metadata": {},
   "outputs": [],
   "source": [
    "from transformers import AutoTokenizer, AutoModelForCausalLM\n",
    "import transformers\n",
    "import torch"
   ]
  },
  {
   "cell_type": "code",
   "execution_count": 4,
   "id": "cdcb986b",
   "metadata": {},
   "outputs": [
    {
     "data": {
      "text/plain": [
       "0"
      ]
     },
     "execution_count": 4,
     "metadata": {},
     "output_type": "execute_result"
    }
   ],
   "source": [
    "tokenizer = AutoTokenizer.from_pretrained(\"tiiuae/falcon-7b\")\n",
    "tokenizer.add_special_tokens({'pad_token': '<?>'})"
   ]
  },
  {
   "cell_type": "code",
   "execution_count": 5,
   "id": "1c7a282b",
   "metadata": {},
   "outputs": [],
   "source": [
    "from accelerate import init_empty_weights, infer_auto_device_map, load_checkpoint_and_dispatch\n",
    "from transformers import AutoConfig, AutoModelForCausalLM"
   ]
  },
  {
   "cell_type": "code",
   "execution_count": 6,
   "id": "abcc68c0",
   "metadata": {},
   "outputs": [
    {
     "data": {
      "text/plain": [
       "{'transformer.word_embeddings': 0,\n",
       " 'lm_head': 0,\n",
       " 'transformer.h.0': 0,\n",
       " 'transformer.h.1': 0,\n",
       " 'transformer.h.2': 0,\n",
       " 'transformer.h.3': 0,\n",
       " 'transformer.h.4': 1,\n",
       " 'transformer.h.5': 1,\n",
       " 'transformer.h.6': 1,\n",
       " 'transformer.h.7': 1,\n",
       " 'transformer.h.8': 1,\n",
       " 'transformer.h.9': 1,\n",
       " 'transformer.h.10': 2,\n",
       " 'transformer.h.11': 2,\n",
       " 'transformer.h.12': 2,\n",
       " 'transformer.h.13': 2,\n",
       " 'transformer.h.14': 2,\n",
       " 'transformer.h.15': 2,\n",
       " 'transformer.h.16': 3,\n",
       " 'transformer.h.17': 3,\n",
       " 'transformer.h.18': 3,\n",
       " 'transformer.h.19': 3,\n",
       " 'transformer.h.20': 3,\n",
       " 'transformer.h.21': 3,\n",
       " 'transformer.h.22': 4,\n",
       " 'transformer.h.23': 4,\n",
       " 'transformer.h.24': 4,\n",
       " 'transformer.h.25': 4,\n",
       " 'transformer.h.26': 4,\n",
       " 'transformer.h.27': 4,\n",
       " 'transformer.h.28': 5,\n",
       " 'transformer.h.29': 5,\n",
       " 'transformer.h.30': 5,\n",
       " 'transformer.h.31': 5,\n",
       " 'transformer.ln_f': 5}"
      ]
     },
     "execution_count": 6,
     "metadata": {},
     "output_type": "execute_result"
    }
   ],
   "source": [
    "config = AutoConfig.from_pretrained('tiiuae/falcon-7b', trust_remote_code=True)\n",
    "\n",
    "with init_empty_weights():\n",
    "    model = AutoModelForCausalLM.from_config(config, trust_remote_code=True)\n",
    "    \n",
    "model.tie_weights()\n",
    "\n",
    "device_map = infer_auto_device_map(model, max_memory={0: \"5GiB\",1: \"5GiB\",2: \"5GiB\",3: \"5GiB\",4: \"5GiB\",5: \"5GiB\"}, \n",
    "                                   no_split_module_classes=[\"DecoderLayer\"])\n",
    "\n",
    "model = load_checkpoint_and_dispatch(model, \n",
    "                                     \"/mnt/data/mart/test_trainer/checkpoint-126/\", \n",
    "                                     device_map=device_map)\n",
    "\n",
    "model.hf_device_map"
   ]
  },
  {
   "cell_type": "code",
   "execution_count": 7,
   "id": "b7416f03",
   "metadata": {},
   "outputs": [],
   "source": [
    "model = model.eval()"
   ]
  },
  {
   "cell_type": "code",
   "execution_count": 8,
   "id": "e7d9cd33",
   "metadata": {},
   "outputs": [
    {
     "name": "stderr",
     "output_type": "stream",
     "text": [
      "Xformers is not installed correctly. If you want to use memory_efficient_attention to accelerate training use the following command to install Xformers\n",
      "pip install xformers.\n",
      "The model 'RWForCausalLM' is not supported for text-generation. Supported models are ['BartForCausalLM', 'BertLMHeadModel', 'BertGenerationDecoder', 'BigBirdForCausalLM', 'BigBirdPegasusForCausalLM', 'BioGptForCausalLM', 'BlenderbotForCausalLM', 'BlenderbotSmallForCausalLM', 'BloomForCausalLM', 'CamembertForCausalLM', 'CodeGenForCausalLM', 'CpmAntForCausalLM', 'CTRLLMHeadModel', 'Data2VecTextForCausalLM', 'ElectraForCausalLM', 'ErnieForCausalLM', 'GitForCausalLM', 'GPT2LMHeadModel', 'GPT2LMHeadModel', 'GPTBigCodeForCausalLM', 'GPTNeoForCausalLM', 'GPTNeoXForCausalLM', 'GPTNeoXJapaneseForCausalLM', 'GPTJForCausalLM', 'LlamaForCausalLM', 'MarianForCausalLM', 'MBartForCausalLM', 'MegaForCausalLM', 'MegatronBertForCausalLM', 'MvpForCausalLM', 'OpenLlamaForCausalLM', 'OpenAIGPTLMHeadModel', 'OPTForCausalLM', 'PegasusForCausalLM', 'PLBartForCausalLM', 'ProphetNetForCausalLM', 'QDQBertLMHeadModel', 'ReformerModelWithLMHead', 'RemBertForCausalLM', 'RobertaForCausalLM', 'RobertaPreLayerNormForCausalLM', 'RoCBertForCausalLM', 'RoFormerForCausalLM', 'RwkvForCausalLM', 'Speech2Text2ForCausalLM', 'TransfoXLLMHeadModel', 'TrOCRForCausalLM', 'XGLMForCausalLM', 'XLMWithLMHeadModel', 'XLMProphetNetForCausalLM', 'XLMRobertaForCausalLM', 'XLMRobertaXLForCausalLM', 'XLNetLMHeadModel', 'XmodForCausalLM'].\n"
     ]
    }
   ],
   "source": [
    "pipeline = transformers.pipeline(\n",
    "    \"text-generation\",\n",
    "    model=model,\n",
    "    tokenizer=tokenizer,\n",
    "    torch_dtype=torch.bfloat16,\n",
    "    trust_remote_code=True,\n",
    "    device_map=\"auto\",\n",
    ")"
   ]
  },
  {
   "cell_type": "code",
   "execution_count": 9,
   "id": "5c4b7686",
   "metadata": {},
   "outputs": [
    {
     "name": "stderr",
     "output_type": "stream",
     "text": [
      "Setting `pad_token_id` to `eos_token_id`:11 for open-end generation.\n"
     ]
    },
    {
     "name": "stdout",
     "output_type": "stream",
     "text": [
      "Result: The user is interested in a tool to find relationships between medical terms.<___:::('('-('-('----------------\n",
      "\n",
      "\n",
      "\n",
      "\n",
      "\n",
      "\n",
      "\n",
      "\n",
      "\n",
      "\n",
      "\n",
      "\n",
      "\n",
      "\n",
      "\n",
      "\n",
      ":::::ersenceenceersenceersersersersersersersersersersersersersersersersersersersersersersersersersersersersersersersersersersersersersersersersersersersers.---------.-.-----.-.-.......................................................\n",
      ".....\n",
      ".....\n",
      "..\n",
      "\n",
      "\n",
      "\n",
      "\n",
      "\n",
      "\n",
      "\n",
      "\n",
      "\n",
      "\n",
      "\n",
      "\n",
      "\n",
      "\n",
      "\n",
      "\n",
      "\n",
      "\n",
      "\n",
      "\n",
      "\n",
      "\n",
      "\n",
      "\n",
      "\n",
      "\n",
      "\n",
      "\n",
      "\n",
      "\n",
      "\n",
      "\n",
      "\n",
      "\n",
      "\n",
      "\n",
      "\n",
      "\n",
      "\n",
      "\n",
      "\n",
      "\n",
      "\n",
      "\n",
      "\n",
      "\n",
      "\n",
      "\n",
      "\n",
      "\n",
      "\n",
      "\n",
      "\n",
      "\n",
      "\n",
      "\n",
      "\n",
      "\n",
      "\n",
      "\n",
      "  - - - - -  - -  - -    - - - -      \n"
     ]
    }
   ],
   "source": [
    "sequences = pipeline(\n",
    "   \"The user is interested in a tool to find relationships between medical terms.\",\n",
    "    max_length=1024,\n",
    "    do_sample=True,\n",
    "    top_k=1,\n",
    "    num_return_sequences=1,\n",
    "    eos_token_id=tokenizer.eos_token_id,\n",
    ")\n",
    "for seq in sequences:\n",
    "    print(f\"Result: {seq['generated_text']}\")"
   ]
  }
 ],
 "metadata": {
  "kernelspec": {
   "display_name": "Python 3 (ipykernel)",
   "language": "python",
   "name": "python3"
  },
  "language_info": {
   "codemirror_mode": {
    "name": "ipython",
    "version": 3
   },
   "file_extension": ".py",
   "mimetype": "text/x-python",
   "name": "python",
   "nbconvert_exporter": "python",
   "pygments_lexer": "ipython3",
   "version": "3.10.9"
  }
 },
 "nbformat": 4,
 "nbformat_minor": 5
}
