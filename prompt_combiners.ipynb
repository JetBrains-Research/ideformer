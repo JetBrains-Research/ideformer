{
 "cells": [
  {
   "cell_type": "code",
   "execution_count": 1,
   "id": "61578d30",
   "metadata": {},
   "outputs": [],
   "source": [
    "import pandas as pd"
   ]
  },
  {
   "cell_type": "code",
   "execution_count": 2,
   "id": "980cea80",
   "metadata": {},
   "outputs": [
    {
     "data": {
      "text/html": [
       "<div>\n",
       "<style scoped>\n",
       "    .dataframe tbody tr th:only-of-type {\n",
       "        vertical-align: middle;\n",
       "    }\n",
       "\n",
       "    .dataframe tbody tr th {\n",
       "        vertical-align: top;\n",
       "    }\n",
       "\n",
       "    .dataframe thead th {\n",
       "        text-align: right;\n",
       "    }\n",
       "</style>\n",
       "<table border=\"1\" class=\"dataframe\">\n",
       "  <thead>\n",
       "    <tr style=\"text-align: right;\">\n",
       "      <th></th>\n",
       "      <th>invocation</th>\n",
       "      <th>cmd</th>\n",
       "      <th>cmdset</th>\n",
       "      <th>cmdcath</th>\n",
       "    </tr>\n",
       "  </thead>\n",
       "  <tbody>\n",
       "    <tr>\n",
       "      <th>0</th>\n",
       "      <td>Copy loadable kernel module \"mymodule.ko\" to t...</td>\n",
       "      <td>sudo cp mymodule.ko /lib/modules/$(uname -r)/k...</td>\n",
       "      <td>[sudo, uname]</td>\n",
       "      <td>[SYSINFO, SECOP]</td>\n",
       "    </tr>\n",
       "    <tr>\n",
       "      <th>1</th>\n",
       "      <td>Display all lines containing \"IP_MROUTE\" in th...</td>\n",
       "      <td>cat /boot/config-`uname -r` | grep IP_MROUTE</td>\n",
       "      <td>[cat, grep, uname]</td>\n",
       "      <td>[SYSINFO, TXTPROC]</td>\n",
       "    </tr>\n",
       "    <tr>\n",
       "      <th>2</th>\n",
       "      <td>Display current running kernel's compile-time ...</td>\n",
       "      <td>cat /boot/config-`uname -r`</td>\n",
       "      <td>[cat, uname]</td>\n",
       "      <td>[SYSINFO, TXTPROC]</td>\n",
       "    </tr>\n",
       "    <tr>\n",
       "      <th>3</th>\n",
       "      <td>Find all loadable modules for current kernel, ...</td>\n",
       "      <td>find /lib/modules/`uname -r` -regex .*perf.*</td>\n",
       "      <td>[find, uname]</td>\n",
       "      <td>[SYSINFO, FDOPS]</td>\n",
       "    </tr>\n",
       "    <tr>\n",
       "      <th>4</th>\n",
       "      <td>Look for any instance of \"HIGHMEM\" in the curr...</td>\n",
       "      <td>grep \"HIGHMEM\" /boot/config-`uname -r`</td>\n",
       "      <td>[grep, uname]</td>\n",
       "      <td>[SYSINFO, TXTPROC]</td>\n",
       "    </tr>\n",
       "    <tr>\n",
       "      <th>...</th>\n",
       "      <td>...</td>\n",
       "      <td>...</td>\n",
       "      <td>...</td>\n",
       "      <td>...</td>\n",
       "    </tr>\n",
       "    <tr>\n",
       "      <th>8867</th>\n",
       "      <td>using exec in find command to dispaly the sear...</td>\n",
       "      <td>find . ... -exec cat {} \\; -exec echo \\;</td>\n",
       "      <td>[find]</td>\n",
       "      <td>[FDOPS]</td>\n",
       "    </tr>\n",
       "    <tr>\n",
       "      <th>8868</th>\n",
       "      <td>verbosely create intermediate directoriy tmp a...</td>\n",
       "      <td>mkdir -pv /tmp/boostinst</td>\n",
       "      <td>[mkdir]</td>\n",
       "      <td>[FDOPS]</td>\n",
       "    </tr>\n",
       "    <tr>\n",
       "      <th>8869</th>\n",
       "      <td>view the manual page of find</td>\n",
       "      <td>man find</td>\n",
       "      <td>[man]</td>\n",
       "      <td>[HELPDOC]</td>\n",
       "    </tr>\n",
       "    <tr>\n",
       "      <th>8870</th>\n",
       "      <td>wait 2 seconds and then print \"hello\"</td>\n",
       "      <td>echo \"hello `sleep 2 &amp;`\"</td>\n",
       "      <td>[echo, sleep]</td>\n",
       "      <td>[SHUTIL, PROCCTRL]</td>\n",
       "    </tr>\n",
       "    <tr>\n",
       "      <th>8871</th>\n",
       "      <td>when using vi-insert keymap bind command \"\\C-v...</td>\n",
       "      <td>bind -m vi-insert '\"{\" \"\\C-v{}\\ei\"'</td>\n",
       "      <td>[bind]</td>\n",
       "      <td>[SHUTIL]</td>\n",
       "    </tr>\n",
       "  </tbody>\n",
       "</table>\n",
       "<p>8872 rows × 4 columns</p>\n",
       "</div>"
      ],
      "text/plain": [
       "                                             invocation  \\\n",
       "0     Copy loadable kernel module \"mymodule.ko\" to t...   \n",
       "1     Display all lines containing \"IP_MROUTE\" in th...   \n",
       "2     Display current running kernel's compile-time ...   \n",
       "3     Find all loadable modules for current kernel, ...   \n",
       "4     Look for any instance of \"HIGHMEM\" in the curr...   \n",
       "...                                                 ...   \n",
       "8867  using exec in find command to dispaly the sear...   \n",
       "8868  verbosely create intermediate directoriy tmp a...   \n",
       "8869                       view the manual page of find   \n",
       "8870              wait 2 seconds and then print \"hello\"   \n",
       "8871  when using vi-insert keymap bind command \"\\C-v...   \n",
       "\n",
       "                                                    cmd              cmdset  \\\n",
       "0     sudo cp mymodule.ko /lib/modules/$(uname -r)/k...       [sudo, uname]   \n",
       "1          cat /boot/config-`uname -r` | grep IP_MROUTE  [cat, grep, uname]   \n",
       "2                           cat /boot/config-`uname -r`        [cat, uname]   \n",
       "3          find /lib/modules/`uname -r` -regex .*perf.*       [find, uname]   \n",
       "4                grep \"HIGHMEM\" /boot/config-`uname -r`       [grep, uname]   \n",
       "...                                                 ...                 ...   \n",
       "8867           find . ... -exec cat {} \\; -exec echo \\;              [find]   \n",
       "8868                           mkdir -pv /tmp/boostinst             [mkdir]   \n",
       "8869                                           man find               [man]   \n",
       "8870                           echo \"hello `sleep 2 &`\"       [echo, sleep]   \n",
       "8871                bind -m vi-insert '\"{\" \"\\C-v{}\\ei\"'              [bind]   \n",
       "\n",
       "                 cmdcath  \n",
       "0       [SYSINFO, SECOP]  \n",
       "1     [SYSINFO, TXTPROC]  \n",
       "2     [SYSINFO, TXTPROC]  \n",
       "3       [SYSINFO, FDOPS]  \n",
       "4     [SYSINFO, TXTPROC]  \n",
       "...                  ...  \n",
       "8867             [FDOPS]  \n",
       "8868             [FDOPS]  \n",
       "8869           [HELPDOC]  \n",
       "8870  [SHUTIL, PROCCTRL]  \n",
       "8871            [SHUTIL]  \n",
       "\n",
       "[8872 rows x 4 columns]"
      ]
     },
     "execution_count": 2,
     "metadata": {},
     "output_type": "execute_result"
    }
   ],
   "source": [
    "train_set = pd.read_json('train_filtered_nl2bash.json', lines=True)\n",
    "train_set"
   ]
  },
  {
   "cell_type": "code",
   "execution_count": 3,
   "id": "37630ef5",
   "metadata": {},
   "outputs": [],
   "source": [
    "import yaml"
   ]
  },
  {
   "cell_type": "code",
   "execution_count": 46,
   "id": "5bbc8b6f",
   "metadata": {},
   "outputs": [],
   "source": [
    "with open('categories.yml') as f:\n",
    "    categories_list = yaml.safe_load(f)\n",
    "cat_description = '; '.join([c['description'] for c in categories_list])\n",
    "categories_dict = {c['name']:c for c in categories_list}\n",
    "\n",
    "with open('tools_docs.yml') as f:\n",
    "    tools_short_doc = yaml.safe_load(f)"
   ]
  },
  {
   "cell_type": "code",
   "execution_count": 25,
   "id": "49d9e24c",
   "metadata": {},
   "outputs": [],
   "source": [
    "all_tools_cat = []\n",
    "for c in categories_list:\n",
    "    all_tools_cat += c['utils']"
   ]
  },
  {
   "cell_type": "code",
   "execution_count": 26,
   "id": "c1235606",
   "metadata": {},
   "outputs": [
    {
     "data": {
      "text/plain": [
       "True"
      ]
     },
     "execution_count": 26,
     "metadata": {},
     "output_type": "execute_result"
    }
   ],
   "source": [
    "set(all_tools_cat) == set(tools_short_doc.keys())"
   ]
  },
  {
   "cell_type": "code",
   "execution_count": 49,
   "id": "c5f28e6c",
   "metadata": {},
   "outputs": [],
   "source": [
    "with open('tools_cheatsheets.yml') as f:\n",
    "    tools_long_doc = yaml.safe_load(f)"
   ]
  },
  {
   "cell_type": "code",
   "execution_count": 55,
   "id": "5efe3913",
   "metadata": {},
   "outputs": [],
   "source": [
    "def make_simple_prediction(record):\n",
    "    return f'<user>: {record.invocation}\\n'\\\n",
    "           f'<IDE-genie>: {record.cmd}'\n",
    "\n",
    "def make_cmd_cat_prediction(record):\n",
    "    selected_categories = \", \".join(record.cmdcath)\n",
    "    \n",
    "    return f'<user>: {record.invocation}\\n'\\\n",
    "           f'<category encyclopedia>: {cat_description}\\n'\\\n",
    "           f'<logic>[Medium:success]: <|{selected_categories}|>'\n",
    "\n",
    "def make_cmd_tools_prediction(record):\n",
    "    tools_proposal = []\n",
    "    for c in record.cmdcath:\n",
    "        tools_proposal += categories_dict[c]['utils']\n",
    "    tools_description = '; '.join([f'{t}: {tools_short_doc[t]}' for t in tools_proposal])\n",
    "    selected_tools = \", \".join(record.cmdset)\n",
    "    \n",
    "    selected_categories = \", \".join(record.cmdcath)\n",
    "    return f'<user>: {record.invocation}\\n'\\\n",
    "           f'<category logic>[trivial:success]: <|{selected_categories}|>\\n'\\\n",
    "           f'<tools encyclopedia>: {tools_description}\\n'\\\n",
    "           f'<tool logic>[medium:success]: <|{selected_tools}|>'\n",
    "\n",
    "def make_cmd_usage_prediction(record):\n",
    "    tools_cheatsheets = []\n",
    "    tools_description = '\\n\\n'.join([f'{tools_long_doc[t]}' for t in record.cmdset])\n",
    "    \n",
    "    selected_tools = \", \".join(record.cmdset)\n",
    "    selected_categories = \", \".join(record.cmdcath)\n",
    "    return f'<user>: {record.invocation}\\n'\\\n",
    "           f'<category logic>[trivial:success]: <|{selected_categories}|>\\n'\\\n",
    "           f'<tool logic>[medium:success]: <|{selected_tools}|>\\n'\\\n",
    "           f'<cheatsheets>: {tools_description}\\n'\\\n",
    "           f'<IDE-genie>: {record.cmd}' "
   ]
  },
  {
   "cell_type": "code",
   "execution_count": 57,
   "id": "2b99665d",
   "metadata": {},
   "outputs": [
    {
     "name": "stdout",
     "output_type": "stream",
     "text": [
      "<user>: Add \"execute\" to the permissions of all directories in the home directory tree\n",
      "<IDE-genie>: find ~ -type d -exec chmod +x {} \\;\n"
     ]
    }
   ],
   "source": [
    "print(make_simple_prediction(train_set.loc[10]))"
   ]
  },
  {
   "cell_type": "code",
   "execution_count": 58,
   "id": "5f4c9f9f",
   "metadata": {},
   "outputs": [
    {
     "name": "stdout",
     "output_type": "stream",
     "text": [
      "<user>: Add \"execute\" to the permissions of all directories in the home directory tree\n",
      "<category encyclopedia>: \"FDOPS (File and Directory Operations)\": Creating, deleting, modifying files and directories; \"TXTPROC (Text Processing)\": Manipulating or displaying text data; \"SYSINFO (System Information and Management)\": Providing system info or managing resources; \"ARCH (File Compression and Archiving)\": Compressing, decompressing, or managing archives; \"NET (Networking)\": Handling networking tasks; \"PROCCTRL (Job and Process Control)\": Managing running processes and jobs; \"HELPDOC (Help and Documentation)\": Providing help, manuals, or documentation; \"PROGSCRIPT (Programming and Scripting)\": Used for programming tasks or script execution; \"SHUTIL (Shell Utilities)\": Providing various utility functionalities; \"SECOP (Secure Operations)\": Managing security or access control\n",
      "<logic>[Medium:success]: <|FDOPS|>\n"
     ]
    }
   ],
   "source": [
    "print(make_cmd_cat_prediction(train_set.loc[10]))"
   ]
  },
  {
   "cell_type": "code",
   "execution_count": 59,
   "id": "97f3c934",
   "metadata": {},
   "outputs": [
    {
     "name": "stdout",
     "output_type": "stream",
     "text": [
      "<user>: Add \"execute\" to the permissions of all directories in the home directory tree\n",
      "<category logic>[trivial:success]: <|FDOPS|>\n",
      "<tools encyclopedia>: basename: returns non-directory portion of a pathname; cd: changes the current directory; ln: creates a link to a file; mkdir: creates a new directory; rmdir: removes empty directories; rm: removes files or directories; cp: copies files or directories; mv: moves or renames files or directories; touch: changes file timestamps; ls: lists directory contents; find: searches for files in a directory hierarchy; pwd: prints current working directory; pushd: adds a directory to the stack and navigates to it; popd: removes a directory from the stack and navigates to it; dirname: returns directory portion of a pathname; tree: lists contents of directories in a tree-like format; rename: renames files\n",
      "<tool logic>[medium:success]: <|find|>\n"
     ]
    }
   ],
   "source": [
    "print(make_cmd_tools_prediction(train_set.loc[10]))"
   ]
  },
  {
   "cell_type": "code",
   "execution_count": 60,
   "id": "bc3092e8",
   "metadata": {},
   "outputs": [
    {
     "name": "stdout",
     "output_type": "stream",
     "text": [
      "<user>: Add \"execute\" to the permissions of all directories in the home directory tree\n",
      "<category logic>[trivial:success]: <|FDOPS|>\n",
      "<tool logic>[medium:success]: <|find|>\n",
      "<cheatsheets>: # find\n",
      "# Find files or directories under the given directory tree, recursively.\n",
      "# More information: .\n",
      "# Find files by extension:\n",
      "find root_path -name '*.ext'\n",
      "# Find files matching multiple path/name patterns:\n",
      "find root_path -path '**/path/**/*.ext' -or -name '*pattern*'\n",
      "# Find directories matching a given name, in case-insensitive mode:\n",
      "find root_path -type d -iname '*lib*'\n",
      "# Find files matching a given pattern, excluding specific paths:\n",
      "find root_path -name '*.py' -not -path '*/site-packages/*'\n",
      "# Find files matching a given size range, limiting the recursive depth to \"1\"::\n",
      "find root_path -maxdepth 1 -size +500k -size -10M\n",
      "# Run a command for each file (use `{}` within the command to access the filename):\n",
      "find root_path -name '*.ext' -exec wc -l {} \\;\n",
      "# Find files modified in the last 7 days:\n",
      "find root_path -daystart -mtime -7\n",
      "# Find empty (0 byte) files and delete them:\n",
      "find root_path -type f -empty -delete\n",
      "\n",
      "<IDE-genie>: find ~ -type d -exec chmod +x {} \\;\n"
     ]
    }
   ],
   "source": [
    "print(make_cmd_usage_prediction(train_set.loc[10]))"
   ]
  }
 ],
 "metadata": {
  "kernelspec": {
   "display_name": "Python 3 (ipykernel)",
   "language": "python",
   "name": "python3"
  },
  "language_info": {
   "codemirror_mode": {
    "name": "ipython",
    "version": 3
   },
   "file_extension": ".py",
   "mimetype": "text/x-python",
   "name": "python",
   "nbconvert_exporter": "python",
   "pygments_lexer": "ipython3",
   "version": "3.10.9"
  }
 },
 "nbformat": 4,
 "nbformat_minor": 5
}
