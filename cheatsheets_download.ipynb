{
 "cells": [
  {
   "cell_type": "code",
   "execution_count": 18,
   "id": "aedfde2b",
   "metadata": {},
   "outputs": [],
   "source": [
    "from unidecode import unidecode"
   ]
  },
  {
   "cell_type": "code",
   "execution_count": 76,
   "id": "0b8598e3",
   "metadata": {},
   "outputs": [],
   "source": [
    "from pycurl import Curl\n",
    "from io import BytesIO\n",
    "import re\n",
    "\n",
    "def download_cheat(util):\n",
    "    # Create a pycUrl instance\n",
    "    c = Curl()\n",
    "    buffer = BytesIO()\n",
    "\n",
    "    c.setopt(c.URL, f'cht.sh/{util}')\n",
    "    c.setopt(c.WRITEDATA, buffer)\n",
    "\n",
    "    # Make the request\n",
    "    c.perform()\n",
    "\n",
    "    # Close the connection\n",
    "    c.close()\n",
    "\n",
    "    body = buffer.getvalue()\n",
    "\n",
    "    ansi_escape_8bit = re.compile(\n",
    "        br'(?:\\x1B[@-Z\\\\-_]|[\\x80-\\x9A\\x9C-\\x9F]|(?:\\x1B\\[|\\x9B)[0-?]*[ -/]*[@-~])'\n",
    "    )\n",
    "    return ansi_escape_8bit.sub(b'', body).decode('ascii', errors='ignore')\n",
    "\n",
    "def get_cheat(util):\n",
    "    full_text = download_cheat(util)\n",
    "    if 'tldr:' in full_text:\n",
    "        full_text = re.findall(r'tldr:[\\w-]*?\\s\\n(.+)', full_text, re.DOTALL)[0]\n",
    "    \n",
    "    full_text = full_text.replace('\\n\\n', '\\n')\n",
    "    \n",
    "    full_text = re.sub(r'<((http|https)\\:\\/\\/)?[a-zA-Z0-9\\.\\/\\?\\:@\\-_=#]+\\.([a-zA-Z]){2,6}([a-zA-Z0-9\\.\\&\\/\\?\\:@\\-_=#])*>', '', full_text)\n",
    "    \n",
    "    return full_text"
   ]
  },
  {
   "cell_type": "code",
   "execution_count": 63,
   "id": "8ca51878",
   "metadata": {},
   "outputs": [],
   "source": [
    "import yaml\n",
    "from tqdm.auto import tqdm"
   ]
  },
  {
   "cell_type": "code",
   "execution_count": 60,
   "id": "90990652",
   "metadata": {},
   "outputs": [],
   "source": [
    "with open('tools_docs.yml') as f:\n",
    "    all_tools = yaml.safe_load(f)"
   ]
  },
  {
   "cell_type": "code",
   "execution_count": 64,
   "id": "20dc1661",
   "metadata": {},
   "outputs": [],
   "source": [
    "tool_cheatsheets = {}"
   ]
  },
  {
   "cell_type": "code",
   "execution_count": 79,
   "id": "79886000",
   "metadata": {
    "scrolled": false
   },
   "outputs": [
    {
     "name": "stderr",
     "output_type": "stream",
     "text": [
      "100%|██████████████████████████████████████████████████████████████████████████████████████████████████████████████████████████████████████████████████████████████████████████████████████████████████████████████| 119/119 [00:10<00:00, 10.88it/s]\n"
     ]
    }
   ],
   "source": [
    "for tool in tqdm(list(all_tools.keys())):\n",
    "    try:\n",
    "        tool_cheatsheets[tool] = get_cheat(tool)\n",
    "    except:\n",
    "        print(tool, 'got exception!')"
   ]
  },
  {
   "cell_type": "code",
   "execution_count": 83,
   "id": "3735719c",
   "metadata": {},
   "outputs": [],
   "source": [
    "with open('tools_cheatsheets.yml', 'w') as f:\n",
    "    yaml.safe_dump(tool_cheatsheets, f)"
   ]
  },
  {
   "cell_type": "code",
   "execution_count": 81,
   "id": "ae6254b8",
   "metadata": {},
   "outputs": [
    {
     "data": {
      "text/plain": [
       "'# rev\\n# Reverse a line of text.\\n# More information: .\\n# Reverse the text string \"hello\":\\necho \"hello\" | rev\\n# Reverse an entire file and print to `stdout`:\\nrev path/to/file\\n'"
      ]
     },
     "execution_count": 81,
     "metadata": {},
     "output_type": "execute_result"
    }
   ],
   "source": [
    "tool_cheatsheets['rev']"
   ]
  },
  {
   "cell_type": "code",
   "execution_count": 82,
   "id": "542d438f",
   "metadata": {},
   "outputs": [
    {
     "data": {
      "text/plain": [
       "'# ssh-keygen\\n# Generate ssh keys used for authentication, password-less logins, and other things.\\n# More information: .\\n# Generate a key interactively:\\nssh-keygen\\n# Specify file in which to save the key:\\nssh-keygen -f ~/.ssh/filename\\n# Generate an ed25519 key with 100 key derivation function rounds:\\nssh-keygen -t ed25519 -a 100\\n# Generate an RSA 4096-bit key with email as a comment:\\nssh-keygen -t dsa|ecdsa|ed25519|rsa -b 4096 -C \"comment|email\"\\n# Remove the keys of a host from the known_hosts file (useful when a known host has a new key):\\nssh-keygen -R remote_host\\n# Retrieve the fingerprint of a key in MD5 Hex:\\nssh-keygen -l -E md5 -f ~/.ssh/filename\\n# Change the password of a key:\\nssh-keygen -p -f ~/.ssh/filename\\n# Change the type of the key format (for example from OPENSSH format to PEM), the file will be rewritten in-place:\\nssh-keygen -p -N \"\" -m PEM -f ~/.ssh/OpenSSH_private_key\\n'"
      ]
     },
     "execution_count": 82,
     "metadata": {},
     "output_type": "execute_result"
    }
   ],
   "source": [
    "tool_cheatsheets['ssh-keygen']"
   ]
  }
 ],
 "metadata": {
  "kernelspec": {
   "display_name": "Python 3 (ipykernel)",
   "language": "python",
   "name": "python3"
  },
  "language_info": {
   "codemirror_mode": {
    "name": "ipython",
    "version": 3
   },
   "file_extension": ".py",
   "mimetype": "text/x-python",
   "name": "python",
   "nbconvert_exporter": "python",
   "pygments_lexer": "ipython3",
   "version": "3.10.9"
  }
 },
 "nbformat": 4,
 "nbformat_minor": 5
}
