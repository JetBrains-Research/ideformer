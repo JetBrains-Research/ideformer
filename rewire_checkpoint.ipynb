{
 "cells": [
  {
   "cell_type": "code",
   "execution_count": 1,
   "id": "134a8ea1",
   "metadata": {},
   "outputs": [],
   "source": [
    "from glob import glob\n",
    "from tqdm.auto import tqdm\n",
    "import os"
   ]
  },
  {
   "cell_type": "code",
   "execution_count": 2,
   "id": "e26478f5",
   "metadata": {},
   "outputs": [],
   "source": [
    "import torch"
   ]
  },
  {
   "cell_type": "code",
   "execution_count": 3,
   "id": "2ac23384",
   "metadata": {},
   "outputs": [],
   "source": [
    "checkpoint_dir = '/mnt/data/mart/only_call_stop'"
   ]
  },
  {
   "cell_type": "code",
   "execution_count": 4,
   "id": "9a01eee6",
   "metadata": {},
   "outputs": [
    {
     "data": {
      "application/vnd.jupyter.widget-view+json": {
       "model_id": "d2e7b583b3c74d60bc1952ef6d648333",
       "version_major": 2,
       "version_minor": 0
      },
      "text/plain": [
       "  0%|          | 0/3 [00:00<?, ?it/s]"
      ]
     },
     "metadata": {},
     "output_type": "display_data"
    }
   ],
   "source": [
    "for chckpt_addr in tqdm(glob(os.path.join(checkpoint_dir,'pytorch_model-*.bin'))):\n",
    "    torch.save(torch.load(chckpt_addr, map_location='cpu'), chckpt_addr)"
   ]
  },
  {
   "cell_type": "code",
   "execution_count": 5,
   "id": "1103ad3c",
   "metadata": {},
   "outputs": [],
   "source": [
    "if os.path.exists(os.path.join(checkpoint_dir,'optimizer.pt')):\n",
    "    os.remove(os.path.join(checkpoint_dir,'optimizer.pt'))"
   ]
  },
  {
   "cell_type": "raw",
   "id": "be25212d",
   "metadata": {},
   "source": [
    "from safetensors import safe_open"
   ]
  },
  {
   "cell_type": "raw",
   "id": "b65f75d5",
   "metadata": {},
   "source": [
    "tensors = {}\n",
    "with safe_open(\"/mnt/data/mart/test_trainer/checkpoint-625/pytorch_model-00001-of-00003.bin\", framework=\"pt\", device=0) as f:\n",
    "    for k in f.keys():\n",
    "        tensors[k] = f.get_tensor(k)"
   ]
  }
 ],
 "metadata": {
  "kernelspec": {
   "display_name": "Python 3 (ipykernel)",
   "language": "python",
   "name": "python3"
  },
  "language_info": {
   "codemirror_mode": {
    "name": "ipython",
    "version": 3
   },
   "file_extension": ".py",
   "mimetype": "text/x-python",
   "name": "python",
   "nbconvert_exporter": "python",
   "pygments_lexer": "ipython3",
   "version": "3.10.9"
  }
 },
 "nbformat": 4,
 "nbformat_minor": 5
}
